{
 "cells": [
  {
   "cell_type": "code",
   "execution_count": 10,
   "metadata": {},
   "outputs": [],
   "source": [
    "import glob\n",
    "import matplotlib.pyplot as plt\n",
    "import json\n",
    "import os\n",
    "\n",
    "%matplotlib inline"
   ]
  },
  {
   "cell_type": "code",
   "execution_count": 41,
   "metadata": {},
   "outputs": [],
   "source": [
    "def load_results(run_dir, metrics = [\"loss\", \"acc\"]):\n",
    "    with open(os.path.join(run_dir, 'trace.txt'), 'r') as f:\n",
    "        reslines = f.readlines()\n",
    "        res = [json.loads(x) for x in reslines]\n",
    "    \n",
    "    results_for_metric = {}\n",
    "    for m in metrics:\n",
    "        epoch_metrics = {\"train\": [], \"val\": []}\n",
    "        \n",
    "        for datum in res:\n",
    "            epoch_metrics[\"train\"].append(datum[\"train\"][m])\n",
    "            epoch_metrics[\"val\"].append(datum[\"val\"][m])\n",
    "        results_for_metric[m] = epoch_metrics\n",
    "\n",
    "    return results_for_metric\n",
    "\n",
    "def plot_results_for_folder_list(result_folders, metrics, splits=[\"train\", \"val\"]):\n",
    "    for metric in metrics:\n",
    "        legend = []\n",
    "        plt.figure(figsize=(20,10))\n",
    "        for res in result_folders:\n",
    "\n",
    "            method_name = res.split('/')[-1]\n",
    "            metric_results = load_results(res, metrics=[metric])\n",
    "\n",
    "            for split in ['train', 'val']: \n",
    "                plt.plot(metric_results[metric][split])\n",
    "                legend.append(\"%s_%s\" % (split, method_name))\n",
    "\n",
    "        plt.legend(legend)\n",
    "        plt.figure()        \n",
    "        \n",
    "def filter_list(all_result_folders, match_string_list):\n",
    "    output_list = []\n",
    "    for folder in all_result_folders:\n",
    "        if all([x in folder for x in match_string_list]):\n",
    "            output_list.append(folder)\n",
    "            \n",
    "    return output_list"
   ]
  },
  {
   "cell_type": "code",
   "execution_count": 19,
   "metadata": {},
   "outputs": [],
   "source": [
    "PATH_TO_RESULTS=\"/checkpoint/ramav/runs/ad_hoc_categories_iclr\"\n",
    "metrics = [\"loss\", \"acc\"]"
   ]
  },
  {
   "cell_type": "code",
   "execution_count": 43,
   "metadata": {},
   "outputs": [
    {
     "data": {
      "image/png": "[encoded data removed]",
      "text/plain": [
       "<Figure size 1440x720 with 1 Axes>"
      ]
     },
     "metadata": {
      "needs_background": "light"
     },
     "output_type": "display_data"
    },
    {
     "data": {
      "text/plain": [
       "<Figure size 432x288 with 0 Axes>"
      ]
     },
     "metadata": {},
     "output_type": "display_data"
    },
    {
     "data": {
      "image/png": "[encoded data removed]",
      "text/plain": [
       "<Figure size 1440x720 with 1 Axes>"
      ]
     },
     "metadata": {
      "needs_background": "light"
     },
     "output_type": "display_data"
    },
    {
     "data": {
      "text/plain": [
       "<Figure size 432x288 with 0 Axes>"
      ]
     },
     "metadata": {},
     "output_type": "display_data"
    }
   ],
   "source": [
    "all_result_folders = glob.glob(PATH_TO_RESULTS + \"/*\")\n",
    "filter_result_folders = filter_list(all_result_folders, list([\"val\", \"language_none\"]))\n",
    "plot_results_for_folder_list(filter_result_folders, metrics)"
   ]
  },
  {
   "cell_type": "code",
   "execution_count": null,
   "metadata": {},
   "outputs": [],
   "source": []
  },
  {
   "cell_type": "code",
   "execution_count": 29,
   "metadata": {},
   "outputs": [
    {
     "data": {
      "text/plain": [
       "['/checkpoint/ramav/runs/ad_hoc_categories_iclr/protonet_resnet_avgpool_gap_language_none_zdim_1024_lr_0.01_replicas_1',\n",
       " '/checkpoint/ramav/runs/ad_hoc_categories_iclr/protonet_resnet_avgpool_gap_language_none_zdim_512_lr_0.01_replicas_1',\n",
       " '/checkpoint/ramav/runs/ad_hoc_categories_iclr/protonet_resnet_avgpool_gap_language_none_zdim_256_lr_0.01_replicas_1',\n",
       " '/checkpoint/ramav/runs/ad_hoc_categories_iclr/protonet_resnet_avgpool_gap_language_none_zdim_64_lr_0.01_replicas_1',\n",
       " '/checkpoint/ramav/runs/ad_hoc_categories_iclr/protonet_resnet_avgpool_gap_language_none_zdim_1024_lr_5e-3_replicas_1',\n",
       " '/checkpoint/ramav/runs/ad_hoc_categories_iclr/protonet_resnet_avgpool_gap_language_none_zdim_512_lr_5e-3_replicas_1',\n",
       " '/checkpoint/ramav/runs/ad_hoc_categories_iclr/protonet_resnet_avgpool_gap_language_none_zdim_256_lr_5e-3_replicas_1',\n",
       " '/checkpoint/ramav/runs/ad_hoc_categories_iclr/protonet_resnet_avgpool_gap_language_none_zdim_64_lr_5e-3_replicas_1',\n",
       " '/checkpoint/ramav/runs/ad_hoc_categories_iclr/protonet_resnet_avgpool_gap_language_multi-task_zdim_1024_lang_alpha_0.1_lr_5e-3_replicas_1',\n",
       " '/checkpoint/ramav/runs/ad_hoc_categories_iclr/protonet_resnet_avgpool_gap_language_multi-task_zdim_512_lang_alpha_0.1_lr_5e-3_replicas_1',\n",
       " '/checkpoint/ramav/runs/ad_hoc_categories_iclr/protonet_resnet_avgpool_gap_language_multi-task_zdim_256_lang_alpha_0.1_lr_5e-3_replicas_1',\n",
       " '/checkpoint/ramav/runs/ad_hoc_categories_iclr/protonet_resnet_avgpool_gap_language_multi-task_zdim_64_lang_alpha_0.1_lr_5e-3_replicas_1',\n",
       " '/checkpoint/ramav/runs/ad_hoc_categories_iclr/protonet_resnet_avgpool_gap_language_multi-task_zdim_1024_lang_alpha_0.5_lr_5e-3_replicas_1',\n",
       " '/checkpoint/ramav/runs/ad_hoc_categories_iclr/protonet_resnet_avgpool_gap_language_multi-task_zdim_512_lang_alpha_0.5_lr_5e-3_replicas_1',\n",
       " '/checkpoint/ramav/runs/ad_hoc_categories_iclr/protonet_resnet_avgpool_gap_language_multi-task_zdim_256_lang_alpha_0.5_lr_5e-3_replicas_1',\n",
       " '/checkpoint/ramav/runs/ad_hoc_categories_iclr/protonet_resnet_avgpool_gap_language_multi-task_zdim_64_lang_alpha_0.5_lr_5e-3_replicas_1',\n",
       " '/checkpoint/ramav/runs/ad_hoc_categories_iclr/protonet_resnet_avgpool_gap_language_multi-task_zdim_1024_lang_alpha_1.0_lr_5e-3_replicas_1',\n",
       " '/checkpoint/ramav/runs/ad_hoc_categories_iclr/protonet_resnet_avgpool_gap_language_multi-task_zdim_512_lang_alpha_1.0_lr_5e-3_replicas_1',\n",
       " '/checkpoint/ramav/runs/ad_hoc_categories_iclr/protonet_resnet_avgpool_gap_language_multi-task_zdim_256_lang_alpha_1.0_lr_5e-3_replicas_1',\n",
       " '/checkpoint/ramav/runs/ad_hoc_categories_iclr/protonet_resnet_avgpool_gap_language_multi-task_zdim_64_lang_alpha_1.0_lr_5e-3_replicas_1',\n",
       " '/checkpoint/ramav/runs/ad_hoc_categories_iclr/protonet_resnet_avgpool_gap_language_multi-task_zdim_1024_lang_alpha_10.0_lr_5e-3_replicas_1',\n",
       " '/checkpoint/ramav/runs/ad_hoc_categories_iclr/protonet_resnet_avgpool_gap_language_multi-task_zdim_512_lang_alpha_10.0_lr_5e-3_replicas_1',\n",
       " '/checkpoint/ramav/runs/ad_hoc_categories_iclr/protonet_resnet_avgpool_gap_language_multi-task_zdim_256_lang_alpha_10.0_lr_5e-3_replicas_1',\n",
       " '/checkpoint/ramav/runs/ad_hoc_categories_iclr/protonet_resnet_avgpool_gap_language_multi-task_zdim_64_lang_alpha_10.0_lr_5e-3_replicas_1']"
      ]
     },
     "execution_count": 29,
     "metadata": {},
     "output_type": "execute_result"
    }
   ],
   "source": [
    "filter_result_folders"
   ]
  },
  {
   "cell_type": "code",
   "execution_count": 17,
   "metadata": {},
   "outputs": [
    {
     "data": {
      "text/plain": [
       "{'loss': {'train': [0.42383956942558354,\n",
       "   0.38728735364377526,\n",
       "   0.3632826442301253,\n",
       "   0.34719071213044006,\n",
       "   0.33409619273990165,\n",
       "   0.3241071729513498,\n",
       "   0.31612888402140465,\n",
       "   0.30961402601646243,\n",
       "   0.30431296153043713,\n",
       "   0.29984725477479424,\n",
       "   0.2542571202307941,\n",
       "   0.25390628240741725,\n",
       "   0.25376903482650814,\n",
       "   0.2530571516580882,\n",
       "   0.2524652146276853,\n",
       "   0.25176758924573694,\n",
       "   0.25059469082057473,\n",
       "   0.24914541237661583,\n",
       "   0.24809258003334217,\n",
       "   0.24718911442413946,\n",
       "   0.23547771106958432,\n",
       "   0.23588191355429608,\n",
       "   0.23603588058526337,\n",
       "   0.23518756814859776,\n",
       "   0.23491226783856772,\n",
       "   0.23466135823565276,\n",
       "   0.2345741357900203,\n",
       "   0.234047967608365],\n",
       "  'val': [0.4240040124654769,\n",
       "   0.38574815148115166,\n",
       "   0.375733158648014,\n",
       "   0.35347042638063425,\n",
       "   0.3359163369536401,\n",
       "   0.34457958698272706,\n",
       "   0.3360283240079878,\n",
       "   0.3235859085321429,\n",
       "   0.3243116816878318,\n",
       "   0.3236394091844557,\n",
       "   0.315139215886593,\n",
       "   0.31725210744142535,\n",
       "   0.32162587931752207,\n",
       "   0.30974841204285636,\n",
       "   0.317239648014307,\n",
       "   0.3167265848517416,\n",
       "   0.3098050500154495,\n",
       "   0.3080101274251937,\n",
       "   0.30634225854277614,\n",
       "   0.2953602717518807,\n",
       "   0.3007296274602411,\n",
       "   0.29812432023882884,\n",
       "   0.3046650326848028,\n",
       "   0.303683666288853,\n",
       "   0.30175857499241826,\n",
       "   0.3079627949893475,\n",
       "   0.2994969377815724,\n",
       "   0.3038086414039134]},\n",
       " 'acc': {'train': [0.8008200002431877,\n",
       "   0.8200760003864752,\n",
       "   0.832398666791122,\n",
       "   0.8407395000845133,\n",
       "   0.8478062000346122,\n",
       "   0.8532025001068858,\n",
       "   0.8574838571974152,\n",
       "   0.860948375016448,\n",
       "   0.8637351111239836,\n",
       "   0.8661024999785404,\n",
       "   0.8895649997115128,\n",
       "   0.889809999531507,\n",
       "   0.8899639994740488,\n",
       "   0.890388999471069,\n",
       "   0.8907185994315164,\n",
       "   0.8910406660536936,\n",
       "   0.8916022851467145,\n",
       "   0.8923479994028829,\n",
       "   0.8928568883233611,\n",
       "   0.8933125994646559,\n",
       "   0.8988939991712567,\n",
       "   0.8987459994554478,\n",
       "   0.898654666086034,\n",
       "   0.8991279994159902,\n",
       "   0.8993017994952164,\n",
       "   0.8994244994580712,\n",
       "   0.8994575709155601,\n",
       "   0.8997394995346618],\n",
       "  'val': [0.7929000010490419,\n",
       "   0.814520000457764,\n",
       "   0.8221600003242493,\n",
       "   0.8321000003814697,\n",
       "   0.8390000021457669,\n",
       "   0.8396999988555904,\n",
       "   0.8383600008487704,\n",
       "   0.8439999995231625,\n",
       "   0.8434800031185152,\n",
       "   0.844999999523163,\n",
       "   0.8482600009441376,\n",
       "   0.8492600021362305,\n",
       "   0.845120000600815,\n",
       "   0.850200000524521,\n",
       "   0.8470399992465969,\n",
       "   0.8473999979495995,\n",
       "   0.8497199997901917,\n",
       "   0.8521999993324276,\n",
       "   0.854199998140335,\n",
       "   0.8572200012207031,\n",
       "   0.8559199979305268,\n",
       "   0.8566600010395052,\n",
       "   0.8519799993038177,\n",
       "   0.854679998397827,\n",
       "   0.8549599978923798,\n",
       "   0.8511999990940092,\n",
       "   0.8554599995613098,\n",
       "   0.8526800014972684]}}"
      ]
     },
     "execution_count": 17,
     "metadata": {},
     "output_type": "execute_result"
    }
   ],
   "source": [
    "results\n"
   ]
  },
  {
   "cell_type": "code",
   "execution_count": null,
   "metadata": {},
   "outputs": [],
   "source": []
  }
 ],
 "metadata": {
  "kernelspec": {
   "display_name": "Python 3",
   "language": "python",
   "name": "python3"
  },
  "language_info": {
   "codemirror_mode": {
    "name": "ipython",
    "version": 3
   },
   "file_extension": ".py",
   "mimetype": "text/x-python",
   "name": "python",
   "nbconvert_exporter": "python",
   "pygments_lexer": "ipython3",
   "version": "3.7.1"
  }
 },
 "nbformat": 4,
 "nbformat_minor": 2
}
